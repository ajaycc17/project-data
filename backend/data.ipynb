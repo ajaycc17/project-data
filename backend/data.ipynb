{
 "cells": [
  {
   "cell_type": "code",
   "execution_count": 43,
   "metadata": {},
   "outputs": [],
   "source": [
    "import pandas as pd\n",
    "import sqlite3"
   ]
  },
  {
   "cell_type": "code",
   "execution_count": 44,
   "metadata": {},
   "outputs": [
    {
     "data": {
      "text/html": [
       "<div>\n",
       "<style scoped>\n",
       "    .dataframe tbody tr th:only-of-type {\n",
       "        vertical-align: middle;\n",
       "    }\n",
       "\n",
       "    .dataframe tbody tr th {\n",
       "        vertical-align: top;\n",
       "    }\n",
       "\n",
       "    .dataframe thead th {\n",
       "        text-align: right;\n",
       "    }\n",
       "</style>\n",
       "<table border=\"1\" class=\"dataframe\">\n",
       "  <thead>\n",
       "    <tr style=\"text-align: right;\">\n",
       "      <th></th>\n",
       "      <th>Project.Title</th>\n",
       "      <th>Project.Technologies</th>\n",
       "      <th>Technical_Skillset.Frontend</th>\n",
       "      <th>Technical_Skillset.Backend</th>\n",
       "      <th>Technical_Skillset.Databases</th>\n",
       "      <th>Technical_Skillset.Infrastructre</th>\n",
       "    </tr>\n",
       "  </thead>\n",
       "  <tbody>\n",
       "    <tr>\n",
       "      <th>0</th>\n",
       "      <td>Project 1</td>\n",
       "      <td>Python, HTML, CSS, Machine Learning, Deep Lear...</td>\n",
       "      <td>HTML, CSS, JavaScript</td>\n",
       "      <td>Python</td>\n",
       "      <td>NaN</td>\n",
       "      <td>NaN</td>\n",
       "    </tr>\n",
       "    <tr>\n",
       "      <th>1</th>\n",
       "      <td>Project 2</td>\n",
       "      <td>Java Spring Boot, Hibernate, MySQL</td>\n",
       "      <td>React JS</td>\n",
       "      <td>Java, Spring Boot, Hibernate</td>\n",
       "      <td>MySQL</td>\n",
       "      <td>Not specified</td>\n",
       "    </tr>\n",
       "    <tr>\n",
       "      <th>2</th>\n",
       "      <td>Project 3</td>\n",
       "      <td>Java, HTML, CSS, JavaScript</td>\n",
       "      <td>React, HTML, CSS</td>\n",
       "      <td>Java, Python Django, Flask</td>\n",
       "      <td>MySQL, MongoDB, Postgres</td>\n",
       "      <td>AWS, Azure OCR, Apache, Docker</td>\n",
       "    </tr>\n",
       "    <tr>\n",
       "      <th>3</th>\n",
       "      <td>Project 4</td>\n",
       "      <td>Websockets, Redis, Channel layers</td>\n",
       "      <td>React</td>\n",
       "      <td>Python Django, Django Rest</td>\n",
       "      <td>MySQL</td>\n",
       "      <td>Not Mentioned</td>\n",
       "    </tr>\n",
       "    <tr>\n",
       "      <th>4</th>\n",
       "      <td>Project 5</td>\n",
       "      <td>Python, Scrapy framework, MongoDB</td>\n",
       "      <td>React Native</td>\n",
       "      <td>Python, Django</td>\n",
       "      <td>MongoDB</td>\n",
       "      <td>Not Specified</td>\n",
       "    </tr>\n",
       "    <tr>\n",
       "      <th>...</th>\n",
       "      <td>...</td>\n",
       "      <td>...</td>\n",
       "      <td>...</td>\n",
       "      <td>...</td>\n",
       "      <td>...</td>\n",
       "      <td>...</td>\n",
       "    </tr>\n",
       "    <tr>\n",
       "      <th>95</th>\n",
       "      <td>Project 96</td>\n",
       "      <td>React JS, Node.js</td>\n",
       "      <td>React JS</td>\n",
       "      <td>Node.js (Learning)</td>\n",
       "      <td>Not Mentioned</td>\n",
       "      <td>Not Mentioned</td>\n",
       "    </tr>\n",
       "    <tr>\n",
       "      <th>96</th>\n",
       "      <td>Project 97</td>\n",
       "      <td>Mongoose, React JS, Node JS</td>\n",
       "      <td>React JS</td>\n",
       "      <td>Node JS</td>\n",
       "      <td>Mongoose</td>\n",
       "      <td>Not Mentioned</td>\n",
       "    </tr>\n",
       "    <tr>\n",
       "      <th>97</th>\n",
       "      <td>Project 98</td>\n",
       "      <td>Open pose, MRCP CNN, Pandas, scikit learn, Python</td>\n",
       "      <td>HTML, JavaScript, jQuery, CSS</td>\n",
       "      <td>Python, Django</td>\n",
       "      <td>MySQL, MSSQL</td>\n",
       "      <td>Not Mentioned</td>\n",
       "    </tr>\n",
       "    <tr>\n",
       "      <th>98</th>\n",
       "      <td>Project 99</td>\n",
       "      <td>React.js, Redux, Schema UI, Config one UI, Liv...</td>\n",
       "      <td>React.js</td>\n",
       "      <td>Willing to learn</td>\n",
       "      <td>Good understanding of data structures and algo...</td>\n",
       "      <td>Not Mentioned</td>\n",
       "    </tr>\n",
       "    <tr>\n",
       "      <th>99</th>\n",
       "      <td>Project 100</td>\n",
       "      <td>Front-end and Back-end frameworks</td>\n",
       "      <td>7.5/10</td>\n",
       "      <td>08-Oct</td>\n",
       "      <td>Not Mentioned</td>\n",
       "      <td>Azure DevOps</td>\n",
       "    </tr>\n",
       "  </tbody>\n",
       "</table>\n",
       "<p>100 rows × 6 columns</p>\n",
       "</div>"
      ],
      "text/plain": [
       "   Project.Title                               Project.Technologies  \\\n",
       "0      Project 1  Python, HTML, CSS, Machine Learning, Deep Lear...   \n",
       "1      Project 2                 Java Spring Boot, Hibernate, MySQL   \n",
       "2     Project 3                         Java, HTML, CSS, JavaScript   \n",
       "3      Project 4                  Websockets, Redis, Channel layers   \n",
       "4      Project 5                  Python, Scrapy framework, MongoDB   \n",
       "..           ...                                                ...   \n",
       "95    Project 96                                  React JS, Node.js   \n",
       "96    Project 97                        Mongoose, React JS, Node JS   \n",
       "97    Project 98  Open pose, MRCP CNN, Pandas, scikit learn, Python   \n",
       "98    Project 99  React.js, Redux, Schema UI, Config one UI, Liv...   \n",
       "99   Project 100                  Front-end and Back-end frameworks   \n",
       "\n",
       "      Technical_Skillset.Frontend    Technical_Skillset.Backend  \\\n",
       "0           HTML, CSS, JavaScript                        Python   \n",
       "1                        React JS  Java, Spring Boot, Hibernate   \n",
       "2                React, HTML, CSS    Java, Python Django, Flask   \n",
       "3                           React    Python Django, Django Rest   \n",
       "4                    React Native                Python, Django   \n",
       "..                            ...                           ...   \n",
       "95                       React JS            Node.js (Learning)   \n",
       "96                       React JS                       Node JS   \n",
       "97  HTML, JavaScript, jQuery, CSS                Python, Django   \n",
       "98                       React.js              Willing to learn   \n",
       "99                         7.5/10                        08-Oct   \n",
       "\n",
       "                         Technical_Skillset.Databases  \\\n",
       "0                                                 NaN   \n",
       "1                                               MySQL   \n",
       "2                            MySQL, MongoDB, Postgres   \n",
       "3                                               MySQL   \n",
       "4                                             MongoDB   \n",
       "..                                                ...   \n",
       "95                                      Not Mentioned   \n",
       "96                                           Mongoose   \n",
       "97                                       MySQL, MSSQL   \n",
       "98  Good understanding of data structures and algo...   \n",
       "99                                      Not Mentioned   \n",
       "\n",
       "   Technical_Skillset.Infrastructre  \n",
       "0                               NaN  \n",
       "1                     Not specified  \n",
       "2    AWS, Azure OCR, Apache, Docker  \n",
       "3                     Not Mentioned  \n",
       "4                     Not Specified  \n",
       "..                              ...  \n",
       "95                    Not Mentioned  \n",
       "96                    Not Mentioned  \n",
       "97                    Not Mentioned  \n",
       "98                    Not Mentioned  \n",
       "99                     Azure DevOps  \n",
       "\n",
       "[100 rows x 6 columns]"
      ]
     },
     "execution_count": 44,
     "metadata": {},
     "output_type": "execute_result"
    }
   ],
   "source": [
    "df = pd.read_excel(\"projects.xlsx\")\n",
    "df"
   ]
  },
  {
   "cell_type": "code",
   "execution_count": 45,
   "metadata": {},
   "outputs": [],
   "source": [
    "df.fillna(\"None\", inplace=True)"
   ]
  },
  {
   "cell_type": "code",
   "execution_count": 46,
   "metadata": {},
   "outputs": [],
   "source": [
    "# convert strings into list of values\n",
    "df[\"Project.Technologies\"] = df[\"Project.Technologies\"].str.split(\", \", expand=False)\n",
    "df[\"Technical_Skillset.Frontend\"] = df[\"Technical_Skillset.Frontend\"].str.split(\n",
    "    \", \", expand=False\n",
    ")\n",
    "df[\"Technical_Skillset.Backend\"] = df[\"Technical_Skillset.Backend\"].str.split(\n",
    "    \", \", expand=False\n",
    ")\n",
    "df[\"Technical_Skillset.Databases\"] = df[\"Technical_Skillset.Databases\"].str.split(\n",
    "    \", \", expand=False\n",
    ")\n",
    "df[\"Technical_Skillset.Infrastructre\"] = df[\n",
    "    \"Technical_Skillset.Infrastructre\"\n",
    "].str.split(\", \", expand=False)"
   ]
  },
  {
   "cell_type": "code",
   "execution_count": 47,
   "metadata": {},
   "outputs": [],
   "source": [
    "# connect the local db\n",
    "conn = sqlite3.connect(\"db.sqlite3\")"
   ]
  },
  {
   "cell_type": "code",
   "execution_count": 48,
   "metadata": {},
   "outputs": [
    {
     "data": {
      "text/plain": [
       "392"
      ]
     },
     "execution_count": 48,
     "metadata": {},
     "output_type": "execute_result"
    }
   ],
   "source": [
    "# technologies\n",
    "proj_tech = df[[\"Project.Title\", \"Project.Technologies\"]]\n",
    "proj_tech = proj_tech.explode(\"Project.Technologies\")\n",
    "\n",
    "# push to db\n",
    "proj_tech.to_sql(\"projTech\", conn, if_exists=\"replace\", index=False)"
   ]
  },
  {
   "cell_type": "code",
   "execution_count": 49,
   "metadata": {},
   "outputs": [
    {
     "data": {
      "text/plain": [
       "214"
      ]
     },
     "execution_count": 49,
     "metadata": {},
     "output_type": "execute_result"
    }
   ],
   "source": [
    "# frontend\n",
    "proj_frnt = df[[\"Project.Title\", \"Technical_Skillset.Frontend\"]]\n",
    "proj_frnt = proj_frnt.explode(\"Technical_Skillset.Frontend\")\n",
    "\n",
    "# push to db\n",
    "proj_frnt.to_sql(\"skillFront\", conn, if_exists=\"replace\", index=False)"
   ]
  },
  {
   "cell_type": "code",
   "execution_count": 50,
   "metadata": {},
   "outputs": [
    {
     "data": {
      "text/plain": [
       "182"
      ]
     },
     "execution_count": 50,
     "metadata": {},
     "output_type": "execute_result"
    }
   ],
   "source": [
    "# backend\n",
    "proj_back = df[[\"Project.Title\", \"Technical_Skillset.Backend\"]]\n",
    "proj_back = proj_back.explode(\"Technical_Skillset.Backend\")\n",
    "\n",
    "# push to db\n",
    "proj_back.to_sql(\"skillBack\", conn, if_exists=\"replace\", index=False)"
   ]
  },
  {
   "cell_type": "code",
   "execution_count": 51,
   "metadata": {},
   "outputs": [
    {
     "data": {
      "text/plain": [
       "119"
      ]
     },
     "execution_count": 51,
     "metadata": {},
     "output_type": "execute_result"
    }
   ],
   "source": [
    "# db\n",
    "proj_db = df[[\"Project.Title\", \"Technical_Skillset.Databases\"]]\n",
    "proj_db = proj_db.explode(\"Technical_Skillset.Databases\")\n",
    "\n",
    "# push to db\n",
    "proj_db.to_sql(\"skillDb\", conn, if_exists=\"replace\", index=False)"
   ]
  },
  {
   "cell_type": "code",
   "execution_count": 52,
   "metadata": {},
   "outputs": [
    {
     "data": {
      "text/plain": [
       "110"
      ]
     },
     "execution_count": 52,
     "metadata": {},
     "output_type": "execute_result"
    }
   ],
   "source": [
    "# infrastructure\n",
    "proj_infra = df[[\"Project.Title\", \"Technical_Skillset.Infrastructre\"]]\n",
    "proj_infra = proj_infra.explode(\"Technical_Skillset.Infrastructre\")\n",
    "\n",
    "# push to db\n",
    "proj_infra.to_sql(\"skillInfra\", conn, if_exists=\"replace\", index=False)"
   ]
  },
  {
   "cell_type": "code",
   "execution_count": 53,
   "metadata": {},
   "outputs": [],
   "source": [
    "# read any table\n",
    "# pd.read_sql(\"select * from skillInfra\", conn)\n",
    "\n",
    "# Close the connection\n",
    "conn.close()"
   ]
  }
 ],
 "metadata": {
  "kernelspec": {
   "display_name": "env",
   "language": "python",
   "name": "python3"
  },
  "language_info": {
   "codemirror_mode": {
    "name": "ipython",
    "version": 3
   },
   "file_extension": ".py",
   "mimetype": "text/x-python",
   "name": "python",
   "nbconvert_exporter": "python",
   "pygments_lexer": "ipython3",
   "version": "3.11.5"
  },
  "orig_nbformat": 4
 },
 "nbformat": 4,
 "nbformat_minor": 2
}
